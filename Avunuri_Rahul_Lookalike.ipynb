{
  "nbformat": 4,
  "nbformat_minor": 0,
  "metadata": {
    "colab": {
      "provenance": []
    },
    "kernelspec": {
      "name": "python3",
      "display_name": "Python 3"
    },
    "language_info": {
      "name": "python"
    }
  },
  "cells": [
    {
      "cell_type": "code",
      "execution_count": 1,
      "metadata": {
        "id": "n72hZ6lbNTlN"
      },
      "outputs": [],
      "source": [
        "import pandas as pd\n",
        "from sklearn.metrics.pairwise import cosine_similarity\n",
        "from sklearn.preprocessing import StandardScaler\n"
      ]
    },
    {
      "cell_type": "code",
      "source": [
        "from google.colab import drive\n",
        "drive.mount('/content/drive')\n",
        ""
      ],
      "metadata": {
        "colab": {
          "base_uri": "https://localhost:8080/"
        },
        "id": "fxq3K94qNetu",
        "outputId": "e626eb5f-00b3-4c84-c630-60e6e63e1983"
      },
      "execution_count": 2,
      "outputs": [
        {
          "output_type": "stream",
          "name": "stdout",
          "text": [
            "Mounted at /content/drive\n"
          ]
        }
      ]
    },
    {
      "cell_type": "code",
      "source": [
        "# Load datasets\n",
        "customers = pd.read_csv(\"/content/drive/MyDrive/Customers.csv\")\n",
        "products = pd.read_csv(\"/content/drive/MyDrive/Products.csv\")\n",
        "transactions = pd.read_csv(\"/content/drive/MyDrive/Transactions.csv\")"
      ],
      "metadata": {
        "id": "WAy54bV8Nk0I"
      },
      "execution_count": 3,
      "outputs": []
    },
    {
      "cell_type": "code",
      "source": [
        "# Merge transactions with products and customers\n",
        "data = transactions.merge(products, on='ProductID', how='left')  # Adds product details\n",
        "data = data.merge(customers, on='CustomerID', how='left')  # Adds customer details\n",
        "\n",
        "# Check column names and rename the appropriate 'Price' column\n",
        "print(data.columns)  # Debugging step to see all columns\n",
        "\n",
        "# Decide which Price column to keep (let's assume 'Price_y' from Products.csv is correct)\n",
        "data.rename(columns={'Price_y': 'Price'}, inplace=True)\n",
        "\n",
        "# Drop the redundant Price column if not needed\n",
        "if 'Price_x' in data.columns:\n",
        "    data.drop(columns=['Price_x'], inplace=True)\n",
        "\n",
        "# Aggregate transaction data per customer\n",
        "customer_features = data.groupby('CustomerID').agg({\n",
        "    'Quantity': 'sum',              # Total quantity purchased\n",
        "    'TotalValue': 'sum',            # Total spending\n",
        "    'Price': 'mean',                # Average product price\n",
        "    'ProductID': pd.Series.nunique, # Number of unique products purchased\n",
        "    'Category': pd.Series.nunique,  # Number of unique categories\n",
        "    'Region': 'first'               # Region of the customer\n",
        "}).reset_index()\n",
        "\n",
        "# Display the first few rows of aggregated data\n",
        "print(customer_features.head())\n"
      ],
      "metadata": {
        "colab": {
          "base_uri": "https://localhost:8080/"
        },
        "id": "RAxayyH4Nsre",
        "outputId": "1a99f61b-e66a-420b-9292-92f50e9f1fd0"
      },
      "execution_count": 6,
      "outputs": [
        {
          "output_type": "stream",
          "name": "stdout",
          "text": [
            "Index(['TransactionID', 'CustomerID', 'ProductID', 'TransactionDate',\n",
            "       'Quantity', 'TotalValue', 'Price_x', 'ProductName', 'Category',\n",
            "       'Price_y', 'CustomerName', 'Region', 'SignupDate'],\n",
            "      dtype='object')\n",
            "  CustomerID  Quantity  TotalValue       Price  ProductID  Category  \\\n",
            "0      C0001        12     3354.52  278.334000          5         3   \n",
            "1      C0002        10     1862.74  208.920000          4         2   \n",
            "2      C0003        14     2725.38  195.707500          4         3   \n",
            "3      C0004        23     5354.88  240.636250          8         3   \n",
            "4      C0005         7     2034.24  291.603333          3         2   \n",
            "\n",
            "          Region  \n",
            "0  South America  \n",
            "1           Asia  \n",
            "2  South America  \n",
            "3  South America  \n",
            "4           Asia  \n"
          ]
        }
      ]
    },
    {
      "cell_type": "code",
      "source": [
        "# Encode categorical features (Region)\n",
        "customer_features = pd.get_dummies(customer_features, columns=['Region'], drop_first=True)\n",
        "\n",
        "# Scale numerical features\n",
        "scaler = StandardScaler()\n",
        "numerical_features = ['Quantity', 'TotalValue', 'Price', 'ProductID', 'Category']\n",
        "customer_features_scaled = customer_features.copy()\n",
        "customer_features_scaled[numerical_features] = scaler.fit_transform(customer_features[numerical_features])"
      ],
      "metadata": {
        "id": "IwiXjrH5N4B9"
      },
      "execution_count": 7,
      "outputs": []
    },
    {
      "cell_type": "code",
      "source": [
        "# Compute similarity matrix\n",
        "feature_matrix = customer_features_scaled[numerical_features + list(customer_features_scaled.columns[6:])]\n",
        "similarity_matrix = cosine_similarity(feature_matrix)\n",
        "similarity_df = pd.DataFrame(similarity_matrix, index=customer_features['CustomerID'], columns=customer_features['CustomerID'])\n",
        "\n",
        "# Recommend top 3 lookalikes for each customer (C0001-C0020)\n",
        "lookalikes = {}\n",
        "for customer_id in customer_features['CustomerID'][:20]:\n",
        "    similar_customers = similarity_df[customer_id].sort_values(ascending=False)[1:4]  # Exclude self-similarity\n",
        "    lookalikes[customer_id] = [(other_id, round(score, 4)) for other_id, score in similar_customers.items()]\n",
        "\n",
        "# Save results to Lookalike.csv\n",
        "lookalike_output = []\n",
        "for customer_id, recommendations in lookalikes.items():\n",
        "    for rec_customer_id, score in recommendations:\n",
        "        lookalike_output.append({'CustomerID': customer_id, 'LookalikeID': rec_customer_id, 'SimilarityScore': score})\n",
        "\n",
        "lookalike_df = pd.DataFrame(lookalike_output)\n",
        "\n",
        "# Specify the file path in Google Drive\n",
        "output_path = '/content/drive/My Drive/Lookalike.csv'\n",
        "\n",
        "# Save the Lookalike.csv file to the specified path\n",
        "lookalike_df.to_csv(output_path, index=False)\n",
        "\n",
        "print(f\"Lookalike.csv has been saved to {output_path}\")\n",
        "\n",
        "print(\"Lookalike.csv has been created with the top 3 lookalikes for each of the first 20 customers.\")\n"
      ],
      "metadata": {
        "colab": {
          "base_uri": "https://localhost:8080/"
        },
        "id": "oTSPstBgO4dE",
        "outputId": "12549e6d-2959-4413-d444-840f54f31fc0"
      },
      "execution_count": 10,
      "outputs": [
        {
          "output_type": "stream",
          "name": "stdout",
          "text": [
            "Lookalike.csv has been saved to /content/drive/My Drive/Lookalike.csv\n",
            "Lookalike.csv has been created with the top 3 lookalikes for each of the first 20 customers.\n"
          ]
        }
      ]
    },
    {
      "cell_type": "code",
      "source": [],
      "metadata": {
        "id": "OzvbRI4oPBhU"
      },
      "execution_count": null,
      "outputs": []
    }
  ]
}